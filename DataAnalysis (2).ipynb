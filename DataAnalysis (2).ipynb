{
 "cells": [
  {
   "cell_type": "code",
   "execution_count": null,
   "id": "66c92091",
   "metadata": {},
   "outputs": [],
   "source": [
    "# 나라별 독립변수에 따른 행복지수에 미치는 영향 분석 및 행복 지수 예측모델 만들기"
   ]
  },
  {
   "cell_type": "code",
   "execution_count": 7,
   "id": "4de58386",
   "metadata": {},
   "outputs": [],
   "source": [
    "import pandas as pd\n",
    "import numpy as np\n",
    "import matplotlib.pyplot as plt"
   ]
  },
  {
   "cell_type": "code",
   "execution_count": 9,
   "id": "aa238fc8",
   "metadata": {},
   "outputs": [
    {
     "data": {
      "text/html": [
       "<div>\n",
       "<style scoped>\n",
       "    .dataframe tbody tr th:only-of-type {\n",
       "        vertical-align: middle;\n",
       "    }\n",
       "\n",
       "    .dataframe tbody tr th {\n",
       "        vertical-align: top;\n",
       "    }\n",
       "\n",
       "    .dataframe thead th {\n",
       "        text-align: right;\n",
       "    }\n",
       "</style>\n",
       "<table border=\"1\" class=\"dataframe\">\n",
       "  <thead>\n",
       "    <tr style=\"text-align: right;\">\n",
       "      <th></th>\n",
       "      <th>Country</th>\n",
       "      <th>QLI</th>\n",
       "      <th>PPI</th>\n",
       "      <th>SI</th>\n",
       "      <th>HCI</th>\n",
       "      <th>CLI</th>\n",
       "      <th>PPIR</th>\n",
       "      <th>TCTI</th>\n",
       "      <th>PI</th>\n",
       "      <th>CI</th>\n",
       "      <th>HPI</th>\n",
       "    </tr>\n",
       "  </thead>\n",
       "  <tbody>\n",
       "    <tr>\n",
       "      <th>0</th>\n",
       "      <td>Switzerland</td>\n",
       "      <td>190.82</td>\n",
       "      <td>110.95</td>\n",
       "      <td>78.65</td>\n",
       "      <td>74.46</td>\n",
       "      <td>131.74</td>\n",
       "      <td>8.42</td>\n",
       "      <td>28.73</td>\n",
       "      <td>20.09</td>\n",
       "      <td>80.05</td>\n",
       "      <td>7.512</td>\n",
       "    </tr>\n",
       "    <tr>\n",
       "      <th>1</th>\n",
       "      <td>Denmark</td>\n",
       "      <td>190.01</td>\n",
       "      <td>94.73</td>\n",
       "      <td>73.28</td>\n",
       "      <td>79.96</td>\n",
       "      <td>91.67</td>\n",
       "      <td>6.66</td>\n",
       "      <td>28.69</td>\n",
       "      <td>20.40</td>\n",
       "      <td>81.80</td>\n",
       "      <td>7.636</td>\n",
       "    </tr>\n",
       "    <tr>\n",
       "      <th>2</th>\n",
       "      <td>Netherlands</td>\n",
       "      <td>183.31</td>\n",
       "      <td>83.89</td>\n",
       "      <td>72.78</td>\n",
       "      <td>75.76</td>\n",
       "      <td>78.64</td>\n",
       "      <td>7.35</td>\n",
       "      <td>27.81</td>\n",
       "      <td>25.28</td>\n",
       "      <td>87.11</td>\n",
       "      <td>7.415</td>\n",
       "    </tr>\n",
       "    <tr>\n",
       "      <th>3</th>\n",
       "      <td>Finland</td>\n",
       "      <td>182.79</td>\n",
       "      <td>89.05</td>\n",
       "      <td>72.99</td>\n",
       "      <td>76.40</td>\n",
       "      <td>77.46</td>\n",
       "      <td>8.64</td>\n",
       "      <td>28.96</td>\n",
       "      <td>11.86</td>\n",
       "      <td>56.64</td>\n",
       "      <td>7.821</td>\n",
       "    </tr>\n",
       "    <tr>\n",
       "      <th>4</th>\n",
       "      <td>Austria</td>\n",
       "      <td>182.37</td>\n",
       "      <td>78.23</td>\n",
       "      <td>74.77</td>\n",
       "      <td>78.40</td>\n",
       "      <td>75.49</td>\n",
       "      <td>10.40</td>\n",
       "      <td>25.68</td>\n",
       "      <td>19.20</td>\n",
       "      <td>77.79</td>\n",
       "      <td>7.163</td>\n",
       "    </tr>\n",
       "    <tr>\n",
       "      <th>...</th>\n",
       "      <td>...</td>\n",
       "      <td>...</td>\n",
       "      <td>...</td>\n",
       "      <td>...</td>\n",
       "      <td>...</td>\n",
       "      <td>...</td>\n",
       "      <td>...</td>\n",
       "      <td>...</td>\n",
       "      <td>...</td>\n",
       "      <td>...</td>\n",
       "      <td>...</td>\n",
       "    </tr>\n",
       "    <tr>\n",
       "      <th>75</th>\n",
       "      <td>Philippines</td>\n",
       "      <td>78.39</td>\n",
       "      <td>19.71</td>\n",
       "      <td>57.84</td>\n",
       "      <td>67.09</td>\n",
       "      <td>40.65</td>\n",
       "      <td>30.14</td>\n",
       "      <td>44.04</td>\n",
       "      <td>74.06</td>\n",
       "      <td>61.03</td>\n",
       "      <td>5.904</td>\n",
       "    </tr>\n",
       "    <tr>\n",
       "      <th>76</th>\n",
       "      <td>Kenya</td>\n",
       "      <td>75.77</td>\n",
       "      <td>27.67</td>\n",
       "      <td>38.60</td>\n",
       "      <td>55.83</td>\n",
       "      <td>36.30</td>\n",
       "      <td>27.27</td>\n",
       "      <td>57.39</td>\n",
       "      <td>75.88</td>\n",
       "      <td>99.79</td>\n",
       "      <td>4.543</td>\n",
       "    </tr>\n",
       "    <tr>\n",
       "      <th>77</th>\n",
       "      <td>Bangladesh</td>\n",
       "      <td>65.27</td>\n",
       "      <td>24.07</td>\n",
       "      <td>35.78</td>\n",
       "      <td>42.70</td>\n",
       "      <td>33.31</td>\n",
       "      <td>14.43</td>\n",
       "      <td>58.53</td>\n",
       "      <td>84.91</td>\n",
       "      <td>72.91</td>\n",
       "      <td>5.155</td>\n",
       "    </tr>\n",
       "    <tr>\n",
       "      <th>78</th>\n",
       "      <td>Iran</td>\n",
       "      <td>64.73</td>\n",
       "      <td>19.00</td>\n",
       "      <td>50.81</td>\n",
       "      <td>52.25</td>\n",
       "      <td>41.34</td>\n",
       "      <td>34.24</td>\n",
       "      <td>47.43</td>\n",
       "      <td>76.13</td>\n",
       "      <td>70.99</td>\n",
       "      <td>4.888</td>\n",
       "    </tr>\n",
       "    <tr>\n",
       "      <th>79</th>\n",
       "      <td>Nigeria</td>\n",
       "      <td>52.00</td>\n",
       "      <td>9.78</td>\n",
       "      <td>36.14</td>\n",
       "      <td>48.89</td>\n",
       "      <td>29.74</td>\n",
       "      <td>17.74</td>\n",
       "      <td>61.68</td>\n",
       "      <td>87.35</td>\n",
       "      <td>60.75</td>\n",
       "      <td>4.552</td>\n",
       "    </tr>\n",
       "  </tbody>\n",
       "</table>\n",
       "<p>80 rows × 11 columns</p>\n",
       "</div>"
      ],
      "text/plain": [
       "        Country     QLI     PPI     SI    HCI     CLI   PPIR   TCTI     PI  \\\n",
       "0   Switzerland  190.82  110.95  78.65  74.46  131.74   8.42  28.73  20.09   \n",
       "1       Denmark  190.01   94.73  73.28  79.96   91.67   6.66  28.69  20.40   \n",
       "2   Netherlands  183.31   83.89  72.78  75.76   78.64   7.35  27.81  25.28   \n",
       "3       Finland  182.79   89.05  72.99  76.40   77.46   8.64  28.96  11.86   \n",
       "4       Austria  182.37   78.23  74.77  78.40   75.49  10.40  25.68  19.20   \n",
       "..          ...     ...     ...    ...    ...     ...    ...    ...    ...   \n",
       "75  Philippines   78.39   19.71  57.84  67.09   40.65  30.14  44.04  74.06   \n",
       "76        Kenya   75.77   27.67  38.60  55.83   36.30  27.27  57.39  75.88   \n",
       "77   Bangladesh   65.27   24.07  35.78  42.70   33.31  14.43  58.53  84.91   \n",
       "78         Iran   64.73   19.00  50.81  52.25   41.34  34.24  47.43  76.13   \n",
       "79      Nigeria   52.00    9.78  36.14  48.89   29.74  17.74  61.68  87.35   \n",
       "\n",
       "       CI    HPI  \n",
       "0   80.05  7.512  \n",
       "1   81.80  7.636  \n",
       "2   87.11  7.415  \n",
       "3   56.64  7.821  \n",
       "4   77.79  7.163  \n",
       "..    ...    ...  \n",
       "75  61.03  5.904  \n",
       "76  99.79  4.543  \n",
       "77  72.91  5.155  \n",
       "78  70.99  4.888  \n",
       "79  60.75  4.552  \n",
       "\n",
       "[80 rows x 11 columns]"
      ]
     },
     "execution_count": 9,
     "metadata": {},
     "output_type": "execute_result"
    }
   ],
   "source": [
    "\"\"\"\n",
    "독립변수인 행복 지수와 영향을 미칠 것 같은 종속변수들의 CSV파일의 데이터를 \n",
    "jupyter 노트북으로의 표현\n",
    "\"\"\"\n",
    "\"\"\"\n",
    "HPI = Happy Planet Index (행복 지수)\n",
    "QLI = Quality of life Index (삶의 질 지수)\n",
    "PPI = Purchasing Power Index (구매력 지수)\n",
    "SI = Safety Index (안전 지수)\n",
    "HCI = Health Care Index (건강 관리 지수)\n",
    "CLI = Cost of Living Index (생활비지수)\n",
    "PPIR = Property Price to Income Ratio (부동산 가격 대 소득 비율)\n",
    "TCTI = Traffic Commute Time Index (교통 통근 시간 지수)\n",
    "PI = Pollution Index (오염 지수)\n",
    "CI = Climate Index (기후 지수)\n",
    "\"\"\"\n",
    "\n",
    "\n",
    "df= pd.read_csv('happy.csv')\n",
    "df"
   ]
  },
  {
   "cell_type": "code",
   "execution_count": 583,
   "id": "b1d67743",
   "metadata": {
    "scrolled": true
   },
   "outputs": [
    {
     "data": {
      "text/plain": [
       "(80, 11)"
      ]
     },
     "execution_count": 583,
     "metadata": {},
     "output_type": "execute_result"
    }
   ],
   "source": [
    "\"\"\"데이터의 행과 열의 갯수 확인\"\"\"\n",
    "\n",
    "df.shape        "
   ]
  },
  {
   "cell_type": "code",
   "execution_count": 584,
   "id": "b2c6dd32",
   "metadata": {},
   "outputs": [
    {
     "data": {
      "text/plain": [
       "Country    0\n",
       "QLI        0\n",
       "PPI        0\n",
       "SI         0\n",
       "HCI        0\n",
       "CLI        0\n",
       "PPIR       0\n",
       "TCTI       0\n",
       "PI         0\n",
       "CI         0\n",
       "HPI        0\n",
       "dtype: int64"
      ]
     },
     "execution_count": 584,
     "metadata": {},
     "output_type": "execute_result"
    }
   ],
   "source": [
    "\"\"\"데이터 결측치 확인\"\"\"\n",
    "\n",
    "df.isna().sum()"
   ]
  },
  {
   "cell_type": "code",
   "execution_count": 585,
   "id": "c073d6db",
   "metadata": {
    "scrolled": true
   },
   "outputs": [
    {
     "data": {
      "text/html": [
       "<div>\n",
       "<style scoped>\n",
       "    .dataframe tbody tr th:only-of-type {\n",
       "        vertical-align: middle;\n",
       "    }\n",
       "\n",
       "    .dataframe tbody tr th {\n",
       "        vertical-align: top;\n",
       "    }\n",
       "\n",
       "    .dataframe thead th {\n",
       "        text-align: right;\n",
       "    }\n",
       "</style>\n",
       "<table border=\"1\" class=\"dataframe\">\n",
       "  <thead>\n",
       "    <tr style=\"text-align: right;\">\n",
       "      <th></th>\n",
       "      <th>Country</th>\n",
       "      <th>QLI</th>\n",
       "      <th>PPI</th>\n",
       "      <th>SI</th>\n",
       "      <th>HCI</th>\n",
       "      <th>CLI</th>\n",
       "      <th>PPIR</th>\n",
       "      <th>TCTI</th>\n",
       "      <th>PI</th>\n",
       "      <th>CI</th>\n",
       "      <th>HPI</th>\n",
       "    </tr>\n",
       "  </thead>\n",
       "  <tbody>\n",
       "    <tr>\n",
       "      <th>0</th>\n",
       "      <td>Switzerland</td>\n",
       "      <td>190.82</td>\n",
       "      <td>110.95</td>\n",
       "      <td>78.65</td>\n",
       "      <td>74.46</td>\n",
       "      <td>131.74</td>\n",
       "      <td>8.42</td>\n",
       "      <td>28.73</td>\n",
       "      <td>20.09</td>\n",
       "      <td>80.05</td>\n",
       "      <td>7.512</td>\n",
       "    </tr>\n",
       "    <tr>\n",
       "      <th>1</th>\n",
       "      <td>Denmark</td>\n",
       "      <td>190.01</td>\n",
       "      <td>94.73</td>\n",
       "      <td>73.28</td>\n",
       "      <td>79.96</td>\n",
       "      <td>91.67</td>\n",
       "      <td>6.66</td>\n",
       "      <td>28.69</td>\n",
       "      <td>20.40</td>\n",
       "      <td>81.80</td>\n",
       "      <td>7.636</td>\n",
       "    </tr>\n",
       "    <tr>\n",
       "      <th>2</th>\n",
       "      <td>Netherlands</td>\n",
       "      <td>183.31</td>\n",
       "      <td>83.89</td>\n",
       "      <td>72.78</td>\n",
       "      <td>75.76</td>\n",
       "      <td>78.64</td>\n",
       "      <td>7.35</td>\n",
       "      <td>27.81</td>\n",
       "      <td>25.28</td>\n",
       "      <td>87.11</td>\n",
       "      <td>7.415</td>\n",
       "    </tr>\n",
       "    <tr>\n",
       "      <th>3</th>\n",
       "      <td>Finland</td>\n",
       "      <td>182.79</td>\n",
       "      <td>89.05</td>\n",
       "      <td>72.99</td>\n",
       "      <td>76.40</td>\n",
       "      <td>77.46</td>\n",
       "      <td>8.64</td>\n",
       "      <td>28.96</td>\n",
       "      <td>11.86</td>\n",
       "      <td>56.64</td>\n",
       "      <td>7.821</td>\n",
       "    </tr>\n",
       "    <tr>\n",
       "      <th>4</th>\n",
       "      <td>Austria</td>\n",
       "      <td>182.37</td>\n",
       "      <td>78.23</td>\n",
       "      <td>74.77</td>\n",
       "      <td>78.40</td>\n",
       "      <td>75.49</td>\n",
       "      <td>10.40</td>\n",
       "      <td>25.68</td>\n",
       "      <td>19.20</td>\n",
       "      <td>77.79</td>\n",
       "      <td>7.163</td>\n",
       "    </tr>\n",
       "    <tr>\n",
       "      <th>5</th>\n",
       "      <td>Australia</td>\n",
       "      <td>181.52</td>\n",
       "      <td>99.29</td>\n",
       "      <td>57.56</td>\n",
       "      <td>77.71</td>\n",
       "      <td>84.14</td>\n",
       "      <td>7.38</td>\n",
       "      <td>35.04</td>\n",
       "      <td>23.48</td>\n",
       "      <td>92.70</td>\n",
       "      <td>7.162</td>\n",
       "    </tr>\n",
       "    <tr>\n",
       "      <th>6</th>\n",
       "      <td>Iceland</td>\n",
       "      <td>179.10</td>\n",
       "      <td>71.88</td>\n",
       "      <td>75.87</td>\n",
       "      <td>65.69</td>\n",
       "      <td>96.77</td>\n",
       "      <td>6.31</td>\n",
       "      <td>19.98</td>\n",
       "      <td>16.24</td>\n",
       "      <td>68.81</td>\n",
       "      <td>7.557</td>\n",
       "    </tr>\n",
       "    <tr>\n",
       "      <th>7</th>\n",
       "      <td>Germany</td>\n",
       "      <td>176.76</td>\n",
       "      <td>93.72</td>\n",
       "      <td>64.58</td>\n",
       "      <td>73.77</td>\n",
       "      <td>70.62</td>\n",
       "      <td>9.12</td>\n",
       "      <td>31.36</td>\n",
       "      <td>27.48</td>\n",
       "      <td>82.97</td>\n",
       "      <td>7.034</td>\n",
       "    </tr>\n",
       "    <tr>\n",
       "      <th>8</th>\n",
       "      <td>New Zealand</td>\n",
       "      <td>175.77</td>\n",
       "      <td>81.44</td>\n",
       "      <td>57.74</td>\n",
       "      <td>73.58</td>\n",
       "      <td>79.14</td>\n",
       "      <td>8.09</td>\n",
       "      <td>30.70</td>\n",
       "      <td>23.81</td>\n",
       "      <td>96.35</td>\n",
       "      <td>7.200</td>\n",
       "    </tr>\n",
       "    <tr>\n",
       "      <th>9</th>\n",
       "      <td>Norway</td>\n",
       "      <td>173.57</td>\n",
       "      <td>79.43</td>\n",
       "      <td>66.65</td>\n",
       "      <td>75.50</td>\n",
       "      <td>106.09</td>\n",
       "      <td>8.49</td>\n",
       "      <td>26.87</td>\n",
       "      <td>18.14</td>\n",
       "      <td>68.68</td>\n",
       "      <td>7.365</td>\n",
       "    </tr>\n",
       "  </tbody>\n",
       "</table>\n",
       "</div>"
      ],
      "text/plain": [
       "       Country     QLI     PPI     SI    HCI     CLI   PPIR   TCTI     PI  \\\n",
       "0  Switzerland  190.82  110.95  78.65  74.46  131.74   8.42  28.73  20.09   \n",
       "1      Denmark  190.01   94.73  73.28  79.96   91.67   6.66  28.69  20.40   \n",
       "2  Netherlands  183.31   83.89  72.78  75.76   78.64   7.35  27.81  25.28   \n",
       "3      Finland  182.79   89.05  72.99  76.40   77.46   8.64  28.96  11.86   \n",
       "4      Austria  182.37   78.23  74.77  78.40   75.49  10.40  25.68  19.20   \n",
       "5    Australia  181.52   99.29  57.56  77.71   84.14   7.38  35.04  23.48   \n",
       "6      Iceland  179.10   71.88  75.87  65.69   96.77   6.31  19.98  16.24   \n",
       "7      Germany  176.76   93.72  64.58  73.77   70.62   9.12  31.36  27.48   \n",
       "8  New Zealand  175.77   81.44  57.74  73.58   79.14   8.09  30.70  23.81   \n",
       "9       Norway  173.57   79.43  66.65  75.50  106.09   8.49  26.87  18.14   \n",
       "\n",
       "      CI    HPI  \n",
       "0  80.05  7.512  \n",
       "1  81.80  7.636  \n",
       "2  87.11  7.415  \n",
       "3  56.64  7.821  \n",
       "4  77.79  7.163  \n",
       "5  92.70  7.162  \n",
       "6  68.81  7.557  \n",
       "7  82.97  7.034  \n",
       "8  96.35  7.200  \n",
       "9  68.68  7.365  "
      ]
     },
     "execution_count": 585,
     "metadata": {},
     "output_type": "execute_result"
    }
   ],
   "source": [
    "\"\"\"상위 10개 목록을 표현\"\"\"\n",
    "\n",
    "df.head(10)"
   ]
  },
  {
   "cell_type": "code",
   "execution_count": 6,
   "id": "506bd3f1",
   "metadata": {},
   "outputs": [],
   "source": [
    "from statsmodels.formula.api import ols \n",
    "from statsmodels.stats.anova import anova_lm"
   ]
  },
  {
   "cell_type": "code",
   "execution_count": 612,
   "id": "f2b27055",
   "metadata": {},
   "outputs": [
    {
     "data": {
      "text/html": [
       "<div>\n",
       "<style scoped>\n",
       "    .dataframe tbody tr th:only-of-type {\n",
       "        vertical-align: middle;\n",
       "    }\n",
       "\n",
       "    .dataframe tbody tr th {\n",
       "        vertical-align: top;\n",
       "    }\n",
       "\n",
       "    .dataframe thead th {\n",
       "        text-align: right;\n",
       "    }\n",
       "</style>\n",
       "<table border=\"1\" class=\"dataframe\">\n",
       "  <thead>\n",
       "    <tr style=\"text-align: right;\">\n",
       "      <th></th>\n",
       "      <th>df</th>\n",
       "      <th>sum_sq</th>\n",
       "      <th>mean_sq</th>\n",
       "      <th>F</th>\n",
       "      <th>PR(&gt;F)</th>\n",
       "    </tr>\n",
       "  </thead>\n",
       "  <tbody>\n",
       "    <tr>\n",
       "      <th>C(QLI)</th>\n",
       "      <td>77.0</td>\n",
       "      <td>65.994359</td>\n",
       "      <td>0.857070</td>\n",
       "      <td>5.724626</td>\n",
       "      <td>0.159946</td>\n",
       "    </tr>\n",
       "    <tr>\n",
       "      <th>Residual</th>\n",
       "      <td>2.0</td>\n",
       "      <td>0.299433</td>\n",
       "      <td>0.149716</td>\n",
       "      <td>NaN</td>\n",
       "      <td>NaN</td>\n",
       "    </tr>\n",
       "  </tbody>\n",
       "</table>\n",
       "</div>"
      ],
      "text/plain": [
       "            df     sum_sq   mean_sq         F    PR(>F)\n",
       "C(QLI)    77.0  65.994359  0.857070  5.724626  0.159946\n",
       "Residual   2.0   0.299433  0.149716       NaN       NaN"
      ]
     },
     "execution_count": 612,
     "metadata": {},
     "output_type": "execute_result"
    }
   ],
   "source": [
    "\"\"\"\n",
    "H0: 삶의 질 지수의 차이에 따른 행복 지수의 차이가 없다.\n",
    "H1: 삶의 질 지수의 차이에 따른 행복 지수의 차이가 있다.\n",
    "P_value = 0.159946, 유의수준=0.05, 즉 P>0.05이므로 귀무가설 채택\n",
    "\n",
    "결론:  삶의 질 지수에 따른 행복 지수의 차이가 있다는 근거가 충분하지 않다.  \n",
    "\"\"\"\n",
    "\n",
    "model= ols('HPI ~ C(QLI)' , df).fit()  \n",
    "anova_lm(model)"
   ]
  },
  {
   "cell_type": "code",
   "execution_count": 588,
   "id": "18f10d0d",
   "metadata": {},
   "outputs": [
    {
     "data": {
      "image/png": "[encoded data removed]",
      "text/plain": [
       "<Figure size 432x288 with 1 Axes>"
      ]
     },
     "metadata": {
      "needs_background": "light"
     },
     "output_type": "display_data"
    },
    {
     "name": "stdout",
     "output_type": "stream",
     "text": [
      "[[1.         0.80583432]\n",
      " [0.80583432 1.        ]]\n"
     ]
    }
   ],
   "source": [
    "plt.scatter(df['HPI'],df['QLI'],alpha=0.5)\n",
    "plt.title('scatter plot')\n",
    "plt.xlabel('HPI')\n",
    "plt.ylabel('QLI')\n",
    "plt.show()\n",
    "a1= np.corrcoef(df.HPI,df.QLI)                     #매우 높은 양의 상관관계를 나타냄\n",
    "print(a1)"
   ]
  },
  {
   "cell_type": "code",
   "execution_count": 611,
   "id": "97ab1665",
   "metadata": {},
   "outputs": [
    {
     "data": {
      "image/png": "[encoded data removed]",
      "text/plain": [
       "<Figure size 432x288 with 1 Axes>"
      ]
     },
     "metadata": {
      "needs_background": "light"
     },
     "output_type": "display_data"
    },
    {
     "name": "stdout",
     "output_type": "stream",
     "text": [
      "[[1.         0.75207123]\n",
      " [0.75207123 1.        ]]\n"
     ]
    },
    {
     "data": {
      "image/png": "[encoded data removed]",
      "text/plain": [
       "<Figure size 432x288 with 1 Axes>"
      ]
     },
     "metadata": {
      "needs_background": "light"
     },
     "output_type": "display_data"
    },
    {
     "name": "stdout",
     "output_type": "stream",
     "text": [
      "[[1.         0.51341001]\n",
      " [0.51341001 1.        ]]\n"
     ]
    },
    {
     "data": {
      "image/png": "[encoded data removed]",
      "text/plain": [
       "<Figure size 432x288 with 1 Axes>"
      ]
     },
     "metadata": {
      "needs_background": "light"
     },
     "output_type": "display_data"
    },
    {
     "name": "stdout",
     "output_type": "stream",
     "text": [
      "[[1.         0.72101815]\n",
      " [0.72101815 1.        ]]\n"
     ]
    }
   ],
   "source": [
    "\"\"\"\n",
    "같은 방식으로\n",
    "H0: 구매력 지수, 건강 관리 지수, 생활비지수 (PPI, HCI, CLI)에 따른 행복 지수의 차이가 없다.\n",
    "H1: 구매력 지수, 건강 관리 지수, 생활비지수 (PPI, HCI, CLI)에 따른 행복 지수의 차이가 있다.\n",
    "유의수준=0.05, P-value값 다 0.05보다 높게 측정됨, 즉 P>0.05이므로 귀무가설 채택\n",
    "\n",
    "결론:구매력 지수, 건강 관리 지수, 생활비지수에 따른 행복 지수의 차이가 있다는 근거가 충분하지 않다.  \n",
    "\"\"\"\n",
    "plt.scatter(df['HPI'],df['PPI'],alpha=0.5)\n",
    "plt.title('scatter plot')\n",
    "plt.xlabel('HPI')\n",
    "plt.ylabel('PPI')\n",
    "plt.show()\n",
    "a2= np.corrcoef(df.HPI,df.PPI)                     #높은 양의 상관관계를 나타냄\n",
    "\n",
    "print(a2)\n",
    "plt.scatter(df['HPI'],df['HCI'],alpha=0.5)\n",
    "plt.title('scatter plot')\n",
    "plt.xlabel('HPI')\n",
    "plt.ylabel('HCI')\n",
    "plt.show()\n",
    "a4= np.corrcoef(df.HPI,df.HCI)                    #보통인 양의 상관관계를 나타냄\n",
    "\n",
    "print(a4)\n",
    "plt.scatter(df['HPI'],df['CLI'],alpha=0.5)\n",
    "plt.title('scatter plot')\n",
    "plt.xlabel('HPI')\n",
    "plt.ylabel('CLI')\n",
    "plt.show()\n",
    "a5= np.corrcoef(df.HPI,df.CLI)                    #높은 양의 상관관계를 나타냄\n",
    "print(a5)"
   ]
  },
  {
   "cell_type": "code",
   "execution_count": 592,
   "id": "766dd094",
   "metadata": {
    "scrolled": true
   },
   "outputs": [
    {
     "data": {
      "text/html": [
       "<div>\n",
       "<style scoped>\n",
       "    .dataframe tbody tr th:only-of-type {\n",
       "        vertical-align: middle;\n",
       "    }\n",
       "\n",
       "    .dataframe tbody tr th {\n",
       "        vertical-align: top;\n",
       "    }\n",
       "\n",
       "    .dataframe thead th {\n",
       "        text-align: right;\n",
       "    }\n",
       "</style>\n",
       "<table border=\"1\" class=\"dataframe\">\n",
       "  <thead>\n",
       "    <tr style=\"text-align: right;\">\n",
       "      <th></th>\n",
       "      <th>df</th>\n",
       "      <th>sum_sq</th>\n",
       "      <th>mean_sq</th>\n",
       "      <th>F</th>\n",
       "      <th>PR(&gt;F)</th>\n",
       "    </tr>\n",
       "  </thead>\n",
       "  <tbody>\n",
       "    <tr>\n",
       "      <th>C(SI)</th>\n",
       "      <td>78.0</td>\n",
       "      <td>62.748007</td>\n",
       "      <td>0.804462</td>\n",
       "      <td>0.226878</td>\n",
       "      <td>0.960988</td>\n",
       "    </tr>\n",
       "    <tr>\n",
       "      <th>Residual</th>\n",
       "      <td>1.0</td>\n",
       "      <td>3.545785</td>\n",
       "      <td>3.545785</td>\n",
       "      <td>NaN</td>\n",
       "      <td>NaN</td>\n",
       "    </tr>\n",
       "  </tbody>\n",
       "</table>\n",
       "</div>"
      ],
      "text/plain": [
       "            df     sum_sq   mean_sq         F    PR(>F)\n",
       "C(SI)     78.0  62.748007  0.804462  0.226878  0.960988\n",
       "Residual   1.0   3.545785  3.545785       NaN       NaN"
      ]
     },
     "execution_count": 592,
     "metadata": {},
     "output_type": "execute_result"
    }
   ],
   "source": [
    "\"\"\"\n",
    "H0: 안전 지수에 따른 행복 지수의 차이가 없다.\n",
    "H1: 안전 지수에 따른 행복 지수의 차이가 있다.\n",
    "P_value = 0.960988, 유의수준=0.05, 즉  P>0.05이므로 귀무가설 채택\n",
    "\n",
    "결론: 안전 지수에 따른 행복 지수의 차이가 있다는 근거가 충분하지 않다.  \n",
    "\"\"\"\n",
    "\n",
    "model= ols('HPI ~ C(SI)' , df).fit()              \n",
    "anova_lm(model)"
   ]
  },
  {
   "cell_type": "code",
   "execution_count": 593,
   "id": "22021849",
   "metadata": {},
   "outputs": [
    {
     "data": {
      "image/png": "[encoded data removed]",
      "text/plain": [
       "<Figure size 432x288 with 1 Axes>"
      ]
     },
     "metadata": {
      "needs_background": "light"
     },
     "output_type": "display_data"
    },
    {
     "name": "stdout",
     "output_type": "stream",
     "text": [
      "[[1.         0.37079122]\n",
      " [0.37079122 1.        ]]\n"
     ]
    }
   ],
   "source": [
    "plt.scatter(df['HPI'],df['SI'],alpha=0.5)\n",
    "plt.title('scatter plot')\n",
    "plt.xlabel('HPI')\n",
    "plt.ylabel('SI')\n",
    "plt.show()\n",
    "\n",
    "a3= np.corrcoef(df.HPI,df.SI)                   #낮은 양의 상관관계를 나타냄\n",
    "print(a3)"
   ]
  },
  {
   "cell_type": "code",
   "execution_count": 598,
   "id": "9f2c81bc",
   "metadata": {
    "scrolled": true
   },
   "outputs": [
    {
     "data": {
      "text/html": [
       "<div>\n",
       "<style scoped>\n",
       "    .dataframe tbody tr th:only-of-type {\n",
       "        vertical-align: middle;\n",
       "    }\n",
       "\n",
       "    .dataframe tbody tr th {\n",
       "        vertical-align: top;\n",
       "    }\n",
       "\n",
       "    .dataframe thead th {\n",
       "        text-align: right;\n",
       "    }\n",
       "</style>\n",
       "<table border=\"1\" class=\"dataframe\">\n",
       "  <thead>\n",
       "    <tr style=\"text-align: right;\">\n",
       "      <th></th>\n",
       "      <th>df</th>\n",
       "      <th>sum_sq</th>\n",
       "      <th>mean_sq</th>\n",
       "      <th>F</th>\n",
       "      <th>PR(&gt;F)</th>\n",
       "    </tr>\n",
       "  </thead>\n",
       "  <tbody>\n",
       "    <tr>\n",
       "      <th>C(PPIR)</th>\n",
       "      <td>77.0</td>\n",
       "      <td>65.693015</td>\n",
       "      <td>0.853156</td>\n",
       "      <td>2.840178</td>\n",
       "      <td>0.295657</td>\n",
       "    </tr>\n",
       "    <tr>\n",
       "      <th>Residual</th>\n",
       "      <td>2.0</td>\n",
       "      <td>0.600777</td>\n",
       "      <td>0.300388</td>\n",
       "      <td>NaN</td>\n",
       "      <td>NaN</td>\n",
       "    </tr>\n",
       "  </tbody>\n",
       "</table>\n",
       "</div>"
      ],
      "text/plain": [
       "            df     sum_sq   mean_sq         F    PR(>F)\n",
       "C(PPIR)   77.0  65.693015  0.853156  2.840178  0.295657\n",
       "Residual   2.0   0.600777  0.300388       NaN       NaN"
      ]
     },
     "execution_count": 598,
     "metadata": {},
     "output_type": "execute_result"
    }
   ],
   "source": [
    "\"\"\"\n",
    "H0: 부동산 가격 대 소득 비율에 따른 행복 지수의 차이가 없다.\n",
    "H1: 부동산 가격 대 소득 비율에 따른행복 지수의 차이가 있다.\n",
    "P_value = 0.295657, 유의수준=0.05, 즉 P>0.05이므로 귀무가설 채택\n",
    "결론: 부동산 가격 대 소득 비율에 따른 행복 지수의 차이가 있다는 근거가 충분하지 않다. \n",
    "\"\"\"\n",
    "\n",
    "model= ols('HPI ~ C(PPIR)' , df).fit()  \n",
    "anova_lm(model)"
   ]
  },
  {
   "cell_type": "code",
   "execution_count": 599,
   "id": "7a1d599f",
   "metadata": {},
   "outputs": [
    {
     "data": {
      "image/png": "[encoded data removed]",
      "text/plain": [
       "<Figure size 432x288 with 1 Axes>"
      ]
     },
     "metadata": {
      "needs_background": "light"
     },
     "output_type": "display_data"
    },
    {
     "name": "stdout",
     "output_type": "stream",
     "text": [
      "[[ 1.         -0.40396876]\n",
      " [-0.40396876  1.        ]]\n"
     ]
    }
   ],
   "source": [
    "plt.scatter(df['HPI'],df['PPIR'],alpha=0.5)\n",
    "plt.title('scatter plot')\n",
    "plt.xlabel('HPI')\n",
    "plt.ylabel('PPIR')\n",
    "plt.show()\n",
    "a6= np.corrcoef(df.HPI,df.PPIR)                   #보통인 양의 상관관계를 나타냄\n",
    "print(a6)"
   ]
  },
  {
   "cell_type": "code",
   "execution_count": 600,
   "id": "1dbb0193",
   "metadata": {},
   "outputs": [
    {
     "data": {
      "text/html": [
       "<div>\n",
       "<style scoped>\n",
       "    .dataframe tbody tr th:only-of-type {\n",
       "        vertical-align: middle;\n",
       "    }\n",
       "\n",
       "    .dataframe tbody tr th {\n",
       "        vertical-align: top;\n",
       "    }\n",
       "\n",
       "    .dataframe thead th {\n",
       "        text-align: right;\n",
       "    }\n",
       "</style>\n",
       "<table border=\"1\" class=\"dataframe\">\n",
       "  <thead>\n",
       "    <tr style=\"text-align: right;\">\n",
       "      <th></th>\n",
       "      <th>df</th>\n",
       "      <th>sum_sq</th>\n",
       "      <th>mean_sq</th>\n",
       "      <th>F</th>\n",
       "      <th>PR(&gt;F)</th>\n",
       "    </tr>\n",
       "  </thead>\n",
       "  <tbody>\n",
       "    <tr>\n",
       "      <th>C(TCTI)</th>\n",
       "      <td>77.0</td>\n",
       "      <td>65.347223</td>\n",
       "      <td>0.848665</td>\n",
       "      <td>1.793141</td>\n",
       "      <td>0.42517</td>\n",
       "    </tr>\n",
       "    <tr>\n",
       "      <th>Residual</th>\n",
       "      <td>2.0</td>\n",
       "      <td>0.946569</td>\n",
       "      <td>0.473284</td>\n",
       "      <td>NaN</td>\n",
       "      <td>NaN</td>\n",
       "    </tr>\n",
       "  </tbody>\n",
       "</table>\n",
       "</div>"
      ],
      "text/plain": [
       "            df     sum_sq   mean_sq         F   PR(>F)\n",
       "C(TCTI)   77.0  65.347223  0.848665  1.793141  0.42517\n",
       "Residual   2.0   0.946569  0.473284       NaN      NaN"
      ]
     },
     "execution_count": 600,
     "metadata": {},
     "output_type": "execute_result"
    }
   ],
   "source": [
    "\"\"\"\n",
    "H0: 교통 통근 시간 지수에 따른 행복 지수의 차이가 없다.\n",
    "H1: 교통 통근 시간 지수에 따른 행복 지수의 차이가 있다.\n",
    "P_value = 0.188361, 유의수준=0.05, 즉 P>0.05이므로 귀무가설 채택\n",
    "결론: 교통 통근 시간 지수에 따른 행복 지수의 차이가 있다는 근거가 충분하지 않다. \n",
    "\"\"\"\n",
    "\n",
    "model= ols('HPI ~ C(TCTI)' , df).fit()  \n",
    "anova_lm(model)"
   ]
  },
  {
   "cell_type": "code",
   "execution_count": 575,
   "id": "5f3ded1f",
   "metadata": {
    "scrolled": true
   },
   "outputs": [
    {
     "data": {
      "image/png": "[encoded data removed]",
      "text/plain": [
       "<Figure size 432x288 with 1 Axes>"
      ]
     },
     "metadata": {
      "needs_background": "light"
     },
     "output_type": "display_data"
    },
    {
     "name": "stdout",
     "output_type": "stream",
     "text": [
      "[[ 1.         -0.59436605]\n",
      " [-0.59436605  1.        ]]\n"
     ]
    }
   ],
   "source": [
    "plt.scatter(df['HPI'],df['TCTI'],alpha=0.5)\n",
    "plt.title('scatter plot')\n",
    "plt.xlabel('HPI')\n",
    "plt.ylabel('TCTI')\n",
    "plt.show()\n",
    "a7= np.corrcoef(df.HPI,df.TCTI)                   #보통인 양의 상관관계를 나타냄\n",
    "print(a7)"
   ]
  },
  {
   "cell_type": "code",
   "execution_count": 601,
   "id": "ec226882",
   "metadata": {},
   "outputs": [
    {
     "data": {
      "text/html": [
       "<div>\n",
       "<style scoped>\n",
       "    .dataframe tbody tr th:only-of-type {\n",
       "        vertical-align: middle;\n",
       "    }\n",
       "\n",
       "    .dataframe tbody tr th {\n",
       "        vertical-align: top;\n",
       "    }\n",
       "\n",
       "    .dataframe thead th {\n",
       "        text-align: right;\n",
       "    }\n",
       "</style>\n",
       "<table border=\"1\" class=\"dataframe\">\n",
       "  <thead>\n",
       "    <tr style=\"text-align: right;\">\n",
       "      <th></th>\n",
       "      <th>df</th>\n",
       "      <th>sum_sq</th>\n",
       "      <th>mean_sq</th>\n",
       "      <th>F</th>\n",
       "      <th>PR(&gt;F)</th>\n",
       "    </tr>\n",
       "  </thead>\n",
       "  <tbody>\n",
       "    <tr>\n",
       "      <th>C(PI)</th>\n",
       "      <td>78.0</td>\n",
       "      <td>65.900407</td>\n",
       "      <td>0.844877</td>\n",
       "      <td>2.147713</td>\n",
       "      <td>0.502966</td>\n",
       "    </tr>\n",
       "    <tr>\n",
       "      <th>Residual</th>\n",
       "      <td>1.0</td>\n",
       "      <td>0.393384</td>\n",
       "      <td>0.393384</td>\n",
       "      <td>NaN</td>\n",
       "      <td>NaN</td>\n",
       "    </tr>\n",
       "  </tbody>\n",
       "</table>\n",
       "</div>"
      ],
      "text/plain": [
       "            df     sum_sq   mean_sq         F    PR(>F)\n",
       "C(PI)     78.0  65.900407  0.844877  2.147713  0.502966\n",
       "Residual   1.0   0.393384  0.393384       NaN       NaN"
      ]
     },
     "execution_count": 601,
     "metadata": {},
     "output_type": "execute_result"
    }
   ],
   "source": [
    "\"\"\"\n",
    "H0: 오염 지수에 따른 행복 지수의 차이가 없다.\n",
    "H1: 오염 지수에 따른 행복 지수의 차이가 있다.\n",
    "P_value = 0.502966, 유의수준=0.05, 즉 P>0.05이므로 귀무가설 채택\n",
    "결론: 오염 지수에 따른 행복 지수의 차이가 있다는 근거가 충분하지 않다. \n",
    "\"\"\"\n",
    "\n",
    "model= ols('HPI ~ C(PI)' , df).fit()  \n",
    "anova_lm(model)"
   ]
  },
  {
   "cell_type": "code",
   "execution_count": 602,
   "id": "6b0794f4",
   "metadata": {},
   "outputs": [
    {
     "data": {
      "image/png": "[encoded data removed]",
      "text/plain": [
       "<Figure size 432x288 with 1 Axes>"
      ]
     },
     "metadata": {
      "needs_background": "light"
     },
     "output_type": "display_data"
    },
    {
     "name": "stdout",
     "output_type": "stream",
     "text": [
      "[[ 1.         -0.80213733]\n",
      " [-0.80213733  1.        ]]\n"
     ]
    }
   ],
   "source": [
    "plt.scatter(df['HPI'],df['PI'],alpha=0.5)\n",
    "plt.title('scatter plot')\n",
    "plt.xlabel('HPI')\n",
    "plt.ylabel('PI')\n",
    "plt.show()\n",
    "a8= np.corrcoef(df.HPI,df.PI)                  #매우 높은 음의 상관관계를 나타냄\n",
    "print(a8)"
   ]
  },
  {
   "cell_type": "code",
   "execution_count": 603,
   "id": "695e88ac",
   "metadata": {
    "scrolled": true
   },
   "outputs": [
    {
     "data": {
      "text/html": [
       "<div>\n",
       "<style scoped>\n",
       "    .dataframe tbody tr th:only-of-type {\n",
       "        vertical-align: middle;\n",
       "    }\n",
       "\n",
       "    .dataframe tbody tr th {\n",
       "        vertical-align: top;\n",
       "    }\n",
       "\n",
       "    .dataframe thead th {\n",
       "        text-align: right;\n",
       "    }\n",
       "</style>\n",
       "<table border=\"1\" class=\"dataframe\">\n",
       "  <thead>\n",
       "    <tr style=\"text-align: right;\">\n",
       "      <th></th>\n",
       "      <th>df</th>\n",
       "      <th>sum_sq</th>\n",
       "      <th>mean_sq</th>\n",
       "      <th>F</th>\n",
       "      <th>PR(&gt;F)</th>\n",
       "    </tr>\n",
       "  </thead>\n",
       "  <tbody>\n",
       "    <tr>\n",
       "      <th>C(CI)</th>\n",
       "      <td>78.0</td>\n",
       "      <td>65.383891</td>\n",
       "      <td>0.838255</td>\n",
       "      <td>0.92126</td>\n",
       "      <td>0.699304</td>\n",
       "    </tr>\n",
       "    <tr>\n",
       "      <th>Residual</th>\n",
       "      <td>1.0</td>\n",
       "      <td>0.909901</td>\n",
       "      <td>0.909901</td>\n",
       "      <td>NaN</td>\n",
       "      <td>NaN</td>\n",
       "    </tr>\n",
       "  </tbody>\n",
       "</table>\n",
       "</div>"
      ],
      "text/plain": [
       "            df     sum_sq   mean_sq        F    PR(>F)\n",
       "C(CI)     78.0  65.383891  0.838255  0.92126  0.699304\n",
       "Residual   1.0   0.909901  0.909901      NaN       NaN"
      ]
     },
     "execution_count": 603,
     "metadata": {},
     "output_type": "execute_result"
    }
   ],
   "source": [
    "\"\"\"\n",
    "H0: 기후 지수에 따른 행복 지수의 차이가 없다.\n",
    "H1: 기후 지수에 따른 행복 지수의 차이가 있다.\n",
    "P_value = 0.699304, 유의수준=0.05, 즉 P>0.05이므로 귀무가설 채택\n",
    "결론: 기후 지수에 따른 행복 지수의 차이가 있다는 근거가 충분하지 않다. \n",
    "\"\"\"\n",
    "\n",
    "model= ols('HPI ~ C(CI)' , df).fit()  \n",
    "anova_lm(model)"
   ]
  },
  {
   "cell_type": "code",
   "execution_count": 604,
   "id": "4e9e2ff7",
   "metadata": {},
   "outputs": [
    {
     "data": {
      "image/png": "[encoded data removed]",
      "text/plain": [
       "<Figure size 432x288 with 1 Axes>"
      ]
     },
     "metadata": {
      "needs_background": "light"
     },
     "output_type": "display_data"
    },
    {
     "name": "stdout",
     "output_type": "stream",
     "text": [
      "[[ 1.         -0.02901094]\n",
      " [-0.02901094  1.        ]]\n"
     ]
    }
   ],
   "source": [
    "plt.scatter(df['HPI'],df['CI'],alpha=0.5)\n",
    "plt.title('scatter plot')\n",
    "plt.xlabel('HPI')\n",
    "plt.ylabel('CI')\n",
    "plt.show()\n",
    "a9= np.corrcoef(df.HPI,df.CI)                          #상관관계가 없다\n",
    "print(a9)"
   ]
  },
  {
   "cell_type": "code",
   "execution_count": null,
   "id": "2d4561a0",
   "metadata": {},
   "outputs": [],
   "source": [
    "\"\"\"\n",
    "결과: 행복 지수인 종속변수에 영향을 미치는 독립변수는 없었다. \n",
    "즉, 행복은 삶의 질, 구매력, 오염, 기후 지수 등 위에서 말한 독립변수들에 따라\n",
    "움직인다고 말할 수 없다.\n",
    "\"\"\""
   ]
  },
  {
   "cell_type": "code",
   "execution_count": null,
   "id": "f04ef92e",
   "metadata": {},
   "outputs": [],
   "source": [
    "\"\"\"\n",
    "    🠓🠓🠓🠓🠓🠓🠓🠓🠓🠓🠓🠓🠓🠓🠓🠓🠓🠓🠓🠓🠓🠓🠓🠓🠓🠓🠓🠓🠓🠓🠓🠓🠓🠓🠓🠓🠓🠓🠓🠓🠓🠓🠓🠓🠓🠓🠓🠓🠓🠓🠓🠓🠓🠓🠓🠓🠓🠓🠓🠓🠓🠓🠓🠓🠓🠓🠓🠓🠓🠓🠓🠓🠓🠓🠓🠓🠓🠓🠓🠓🠓🠓🠓🠓🠓🠓🠓🠓🠓🠓🠓🠓🠓🠓🠓🠓🠓🠓🠓🠓🠓🠓🠓🠓🠓🠓🠓🠓🠓🠓🠓🠓🠓🠓🠓🠓🠓🠓🠓🠓🠓🠓🠓🠓🠓🠓🠓\n",
    "\"\"\""
   ]
  },
  {
   "cell_type": "code",
   "execution_count": null,
   "id": "939cdbad",
   "metadata": {},
   "outputs": [],
   "source": [
    "# 이제는 반대로 PPI,SI,HCI,CLI ... CI에 따른 행복 지수의 값에 대한 예측모델을 세울 것울 것이며\n",
    "# 테스트 및 정확도 등을 알아볼 것이다."
   ]
  },
  {
   "cell_type": "code",
   "execution_count": 225,
   "id": "dd98ad82",
   "metadata": {},
   "outputs": [],
   "source": [
    "from sklearn.linear_model import LinearRegression\n",
    "from sklearn.model_selection import train_test_split\n",
    "from sklearn.metrics import r2_score"
   ]
  },
  {
   "cell_type": "code",
   "execution_count": 303,
   "id": "d6264297",
   "metadata": {},
   "outputs": [],
   "source": [
    "\"\"\"y의 값\"\"\"\n",
    "\n",
    "dependent_variable = 'HPI'"
   ]
  },
  {
   "cell_type": "code",
   "execution_count": 304,
   "id": "a48bcc89",
   "metadata": {},
   "outputs": [],
   "source": [
    "independent_variables= df.columns.tolist()"
   ]
  },
  {
   "cell_type": "code",
   "execution_count": 305,
   "id": "f7475540",
   "metadata": {},
   "outputs": [],
   "source": [
    "independent_variables.remove(dependent_variable)"
   ]
  },
  {
   "cell_type": "code",
   "execution_count": 307,
   "id": "a17633f4",
   "metadata": {},
   "outputs": [],
   "source": [
    "independent_variables.remove('Country')"
   ]
  },
  {
   "cell_type": "code",
   "execution_count": 664,
   "id": "13f79c8b",
   "metadata": {},
   "outputs": [
    {
     "data": {
      "text/plain": [
       "['QLI', 'PPI', 'SI', 'HCI', 'CLI', 'PPIR', 'TCTI', 'PI', 'CI']"
      ]
     },
     "execution_count": 664,
     "metadata": {},
     "output_type": "execute_result"
    }
   ],
   "source": [
    "\"\"\"x의 값 \"\"\"\n",
    "\n",
    "independent_variables"
   ]
  },
  {
   "cell_type": "code",
   "execution_count": 665,
   "id": "0799aa21",
   "metadata": {},
   "outputs": [
    {
     "name": "stdout",
     "output_type": "stream",
     "text": [
      "[5.52854607 6.45909929 6.48006005 4.80873188 5.54596652 5.19175833\n",
      " 5.62861622 5.59787832 5.73021982 6.02173563 5.82790327 5.39006283\n",
      " 7.04166809 4.83517649 5.77039611 5.83081339]\n"
     ]
    },
    {
     "data": {
      "text/plain": [
       "0.41705353685886026"
      ]
     },
     "execution_count": 665,
     "metadata": {},
     "output_type": "execute_result"
    }
   ],
   "source": [
    "x = df[independent_variables].values               #x값 설정\n",
    "y= df[dependent_variable].values                   #y값 설정\n",
    "x_train, x_test, y_train, y_test= train_test_split(x,y, test_size=0.2, random_state=0)\n",
    "\n",
    "regressor=LinearRegression()                       #데이터 셋을 트레인 셋과 테스트 셋으로 분할\n",
    "regressor.fit(x_train,y_train)\n",
    "\n",
    "y_pred=regressor.predict(x_test)                    #y 예측값 설정\n",
    "print(y_pred)\n",
    "\n",
    "r2_score(y_test,y_pred)                             # 41% 점수를 보임"
   ]
  },
  {
   "cell_type": "code",
   "execution_count": 668,
   "id": "af504dcd",
   "metadata": {},
   "outputs": [
    {
     "data": {
      "text/plain": [
       "array([6.56096171])"
      ]
     },
     "execution_count": 668,
     "metadata": {},
     "output_type": "execute_result"
    }
   ],
   "source": [
    "regressor.predict([[130.02, 76.6, 73.14, 82.3, 81.2, 23.63, 39.88, 61.85, 68.39]])  \n",
    "                  \n",
    "                  #독립변수 다 있을 때 대한민국 행복 지수 값 6.56096171"
   ]
  },
  {
   "cell_type": "code",
   "execution_count": 644,
   "id": "922df49f",
   "metadata": {},
   "outputs": [
    {
     "name": "stdout",
     "output_type": "stream",
     "text": [
      "[5.59362773 6.43929325 6.42811632 4.79397949 5.64182912 5.38789208\n",
      " 5.60684698 5.53319386 5.82487184 5.82454511 5.80812885 5.41097853\n",
      " 7.11779167 4.84834985 5.66679311 5.90859369]\n"
     ]
    },
    {
     "data": {
      "text/plain": [
       "0.4613066151238412"
      ]
     },
     "execution_count": 644,
     "metadata": {},
     "output_type": "execute_result"
    }
   ],
   "source": [
    "# 정확도를 높이기 위해 위에 나온 변수들 중에 행복지수와 관련이없다고 생각한 'CI'를 제거해 보았다\n",
    "independent_variables_2 = ['QLI', 'PPI', 'SI', 'HCI', 'CLI', 'PPIR', 'TCTI', 'PI']\n",
    "x = df[independent_variables_2].values               \n",
    "y= df[dependent_variable].values                   \n",
    "x_train, x_test, y_train, y_test= train_test_split(x,y, test_size=0.2, random_state=0)\n",
    "\n",
    "regressor=LinearRegression()                       \n",
    "regressor.fit(x_train,y_train)\n",
    "\n",
    "y_pred=regressor.predict(x_test)                   \n",
    "print(y_pred)\n",
    "\n",
    "r2_score(y_test,y_pred)                                # 46% 의 점수를 보여줌 (5%향상)"
   ]
  },
  {
   "cell_type": "code",
   "execution_count": 645,
   "id": "8cfa8eae",
   "metadata": {
    "scrolled": true
   },
   "outputs": [
    {
     "name": "stdout",
     "output_type": "stream",
     "text": [
      "[5.59369534 6.43934579 6.42804175 4.79404994 5.64178106 5.38789084\n",
      " 5.6067032  5.53327105 5.82487657 5.82442559 5.80810439 5.41126292\n",
      " 7.11779633 4.84838849 5.66654254 5.90866706]\n"
     ]
    },
    {
     "data": {
      "text/plain": [
       "0.46130062801301186"
      ]
     },
     "execution_count": 645,
     "metadata": {},
     "output_type": "execute_result"
    }
   ],
   "source": [
    "# 정확도를 또 높이는 실험을 위해 위에 나온 변수들 중에 'SI'를 제거해 보았다.\n",
    "independent_variables_3= ['QLI', 'PPI', 'HCI', 'CLI', 'PPIR', 'TCTI', 'PI','CI']\n",
    "x = df[independent_variables_3].values               \n",
    "y= df[dependent_variable].values                   \n",
    "x_train, x_test, y_train, y_test= train_test_split(x,y, test_size=0.2, random_state=0)\n",
    "regressor=LinearRegression()                       \n",
    "regressor.fit(x_train,y_train)\n",
    "\n",
    "y_pred=regressor.predict(x_test)\n",
    "print(y_pred)\n",
    "                  \n",
    "r2_score(y_test,y_pred)                        "
   ]
  },
  {
   "cell_type": "code",
   "execution_count": 656,
   "id": "ac3827bd",
   "metadata": {},
   "outputs": [
    {
     "name": "stdout",
     "output_type": "stream",
     "text": [
      "[5.62550746 6.44859327 6.4500724  4.80256299 5.58482076 5.30341767\n",
      " 5.53384958 5.42893181 5.7199098  5.78702121 5.81578068 5.4323075\n",
      " 7.14587022 4.9187383  5.57992578 5.97008363]\n"
     ]
    },
    {
     "data": {
      "text/plain": [
       "0.41945215562744187"
      ]
     },
     "execution_count": 656,
     "metadata": {},
     "output_type": "execute_result"
    }
   ],
   "source": [
    "# 정확도를 또 높이는 실험을 위해 위에 나온 변수들 중에 'QLI'를 제거해 보았다.\n",
    "independent_variables_4= [ 'PPI', 'HCI', 'CLI', 'PPIR', 'TCTI', 'PI','CI']\n",
    "x = df[independent_variables_4].values               \n",
    "y= df[dependent_variable].values                   \n",
    "x_train, x_test, y_train, y_test= train_test_split(x,y, test_size=0.2, random_state=0)\n",
    "regressor=LinearRegression()                       \n",
    "regressor.fit(x_train,y_train)\n",
    "\n",
    "y_pred=regressor.predict(x_test)\n",
    "print(y_pred)\n",
    "                  \n",
    "r2_score(y_test,y_pred)                        "
   ]
  },
  {
   "cell_type": "code",
   "execution_count": 647,
   "id": "8850e33c",
   "metadata": {},
   "outputs": [
    {
     "name": "stdout",
     "output_type": "stream",
     "text": [
      "[5.59340759 6.43937586 6.42834417 4.79376265 5.64170001 5.38790095\n",
      " 5.60715718 5.53385805 5.82494626 5.82521859 5.80828933 5.41097001\n",
      " 7.11753206 4.84801981 5.66706219 5.90822426]\n"
     ]
    },
    {
     "data": {
      "text/plain": [
       "0.4612984142727232"
      ]
     },
     "execution_count": 647,
     "metadata": {},
     "output_type": "execute_result"
    }
   ],
   "source": [
    "# 정확도를 또 높이는 실험을 위해 위에 나온 변수들 중에 'TCTI'를 제거해 보았다.\n",
    "independent_variables_5= ['QLI', 'PPI', 'HCI', 'CLI', 'SI','PPIR', 'PI','CI']\n",
    "x = df[independent_variables_5].values               \n",
    "y= df[dependent_variable].values                   \n",
    "x_train, x_test, y_train, y_test= train_test_split(x,y, test_size=0.2, random_state=0)\n",
    "regressor=LinearRegression()                       \n",
    "regressor.fit(x_train,y_train)\n",
    "\n",
    "y_pred=regressor.predict(x_test)\n",
    "print(y_pred)\n",
    "                  \n",
    "r2_score(y_test,y_pred)                        "
   ]
  },
  {
   "cell_type": "code",
   "execution_count": 657,
   "id": "0c670781",
   "metadata": {},
   "outputs": [
    {
     "name": "stdout",
     "output_type": "stream",
     "text": [
      "[5.59370836 6.43931869 6.4278623  4.79380592 5.64207536 5.38796888\n",
      " 5.60696841 5.53368411 5.82519779 5.82476074 5.80806428 5.41122752\n",
      " 7.1177099  4.84805204 5.66688889 5.90824727]\n"
     ]
    },
    {
     "data": {
      "text/plain": [
       "0.46135462092062873"
      ]
     },
     "execution_count": 657,
     "metadata": {},
     "output_type": "execute_result"
    }
   ],
   "source": [
    "# 정확도를 또 높이는 실험을 위해 위에 나온 변수들 중에 'HCI'를 제거해 보았다.\n",
    "independent_variables_6= ['QLI', 'PPI', 'CLI','SI', 'PPIR', 'TCTI', 'PI','CI']\n",
    "x = df[independent_variables_6].values               \n",
    "y= df[dependent_variable].values                   \n",
    "x_train, x_test, y_train, y_test= train_test_split(x,y, test_size=0.2, random_state=0)\n",
    "regressor=LinearRegression()                       \n",
    "regressor.fit(x_train,y_train)\n",
    "\n",
    "y_pred=regressor.predict(x_test)\n",
    "print(y_pred)\n",
    "                  \n",
    "r2_score(y_test,y_pred)                        "
   ]
  },
  {
   "cell_type": "code",
   "execution_count": 649,
   "id": "fdb756bb",
   "metadata": {},
   "outputs": [
    {
     "data": {
      "text/plain": [
       "' \\n\\n반복\\n\\n'"
      ]
     },
     "execution_count": 649,
     "metadata": {},
     "output_type": "execute_result"
    }
   ],
   "source": [
    "''' \n",
    "\n",
    "반복\n",
    "\n",
    "'''"
   ]
  },
  {
   "cell_type": "code",
   "execution_count": 650,
   "id": "16113bff",
   "metadata": {},
   "outputs": [],
   "source": [
    "#독립변수 한개 제거했을 때는 'CI'를 제거했을 때 제일 높게 나타남"
   ]
  },
  {
   "cell_type": "code",
   "execution_count": 651,
   "id": "0bdb68f2",
   "metadata": {},
   "outputs": [],
   "source": [
    "#이제 제일 제외했을 때 높게 나타난 CI와 함께 한가지 변수를 더 제외해보자"
   ]
  },
  {
   "cell_type": "code",
   "execution_count": 669,
   "id": "74b5c91c",
   "metadata": {
    "scrolled": true
   },
   "outputs": [
    {
     "name": "stdout",
     "output_type": "stream",
     "text": [
      "[5.235313   6.43208194 6.11483949 4.61881497 5.70214141 5.210057\n",
      " 5.34261749 5.53188079 5.97614087 4.99110044 5.74132135 5.47428754\n",
      " 7.15093263 4.70005172 5.85518404 6.04920415]\n"
     ]
    },
    {
     "data": {
      "text/plain": [
       "0.6563724515972538"
      ]
     },
     "execution_count": 669,
     "metadata": {},
     "output_type": "execute_result"
    }
   ],
   "source": [
    "independent_variables_7 = ['QLI', 'PPI', 'HCI', 'SI', 'PPIR', 'TCTI', 'PI']\n",
    "x = df[independent_variables_7].values               \n",
    "y= df[dependent_variable].values                   \n",
    "x_train, x_test, y_train, y_test= train_test_split(x,y, test_size=0.2, random_state=0)\n",
    "\n",
    "regressor=LinearRegression()                       \n",
    "regressor.fit(x_train,y_train)                    #여러가지 시행중\n",
    "                                                  #CLI CI를 제거했을 때 높은 점수가 나타남\n",
    "\n",
    "y_pred=regressor.predict(x_test)                   \n",
    "print(y_pred)\n",
    "\n",
    "r2_score(y_test,y_pred)"
   ]
  },
  {
   "cell_type": "code",
   "execution_count": 670,
   "id": "fa9afe96",
   "metadata": {},
   "outputs": [
    {
     "data": {
      "text/plain": [
       "array([6.08161328])"
      ]
     },
     "execution_count": 670,
     "metadata": {},
     "output_type": "execute_result"
    }
   ],
   "source": [
    "regressor.predict([[130.02,76.6,73.14,82.3,23.63,39.88,61.85]])  \n",
    "                                             #가장 높은 점수 모델을 가지고 한국 값을 넣었더니\n",
    "                                             # 실제 값=5.935, 아까보다 매우 근접한 결과"
   ]
  },
  {
   "cell_type": "code",
   "execution_count": 659,
   "id": "6fc3a7ef",
   "metadata": {},
   "outputs": [
    {
     "name": "stdout",
     "output_type": "stream",
     "text": [
      "[5.24591817 6.44467893 6.10422631 4.63541495 5.68451653 5.19554139\n",
      " 5.31495577 5.55305733 5.96939182 4.98395593 5.73791633 5.53236308\n",
      " 7.14600926 4.70773168 5.80959455 6.05823339]\n"
     ]
    },
    {
     "data": {
      "text/plain": [
       "0.6497529615701367"
      ]
     },
     "execution_count": 659,
     "metadata": {},
     "output_type": "execute_result"
    }
   ],
   "source": [
    "independent_variables_8 = ['QLI', 'PPI', 'HCI', 'PPIR', 'TCTI', 'PI']\n",
    "x = df[independent_variables_8].values               \n",
    "y= df[dependent_variable].values                   \n",
    "x_train, x_test, y_train, y_test= train_test_split(x,y, test_size=0.2, random_state=0)\n",
    "\n",
    "regressor=LinearRegression()                       \n",
    "regressor.fit(x_train,y_train)                     \n",
    "                                                 #CL CI포함해 3개를 제외하면 아까보다 떨어짐\n",
    "\n",
    "y_pred=regressor.predict(x_test)                   \n",
    "print(y_pred)\n",
    "\n",
    "r2_score(y_test,y_pred)"
   ]
  },
  {
   "cell_type": "code",
   "execution_count": 655,
   "id": "6f46bec2",
   "metadata": {},
   "outputs": [
    {
     "data": {
      "text/html": [
       "<div>\n",
       "<style scoped>\n",
       "    .dataframe tbody tr th:only-of-type {\n",
       "        vertical-align: middle;\n",
       "    }\n",
       "\n",
       "    .dataframe tbody tr th {\n",
       "        vertical-align: top;\n",
       "    }\n",
       "\n",
       "    .dataframe thead th {\n",
       "        text-align: right;\n",
       "    }\n",
       "</style>\n",
       "<table border=\"1\" class=\"dataframe\">\n",
       "  <thead>\n",
       "    <tr style=\"text-align: right;\">\n",
       "      <th></th>\n",
       "      <th>Actual</th>\n",
       "      <th>Predicted</th>\n",
       "      <th>Difference</th>\n",
       "    </tr>\n",
       "  </thead>\n",
       "  <tbody>\n",
       "    <tr>\n",
       "      <th>0</th>\n",
       "      <td>4.152</td>\n",
       "      <td>5.245918</td>\n",
       "      <td>-1.093918</td>\n",
       "    </tr>\n",
       "    <tr>\n",
       "      <th>1</th>\n",
       "      <td>6.180</td>\n",
       "      <td>6.444679</td>\n",
       "      <td>-0.264679</td>\n",
       "    </tr>\n",
       "    <tr>\n",
       "      <th>2</th>\n",
       "      <td>6.221</td>\n",
       "      <td>6.104226</td>\n",
       "      <td>0.116774</td>\n",
       "    </tr>\n",
       "    <tr>\n",
       "      <th>3</th>\n",
       "      <td>5.155</td>\n",
       "      <td>4.635415</td>\n",
       "      <td>0.519585</td>\n",
       "    </tr>\n",
       "    <tr>\n",
       "      <th>4</th>\n",
       "      <td>6.128</td>\n",
       "      <td>5.684517</td>\n",
       "      <td>0.443483</td>\n",
       "    </tr>\n",
       "    <tr>\n",
       "      <th>5</th>\n",
       "      <td>5.485</td>\n",
       "      <td>5.195541</td>\n",
       "      <td>0.289459</td>\n",
       "    </tr>\n",
       "    <tr>\n",
       "      <th>6</th>\n",
       "      <td>6.172</td>\n",
       "      <td>5.314956</td>\n",
       "      <td>0.857044</td>\n",
       "    </tr>\n",
       "    <tr>\n",
       "      <th>7</th>\n",
       "      <td>6.234</td>\n",
       "      <td>5.553057</td>\n",
       "      <td>0.680943</td>\n",
       "    </tr>\n",
       "    <tr>\n",
       "      <th>8</th>\n",
       "      <td>5.711</td>\n",
       "      <td>5.969392</td>\n",
       "      <td>-0.258392</td>\n",
       "    </tr>\n",
       "    <tr>\n",
       "      <th>9</th>\n",
       "      <td>4.584</td>\n",
       "      <td>4.983956</td>\n",
       "      <td>-0.399956</td>\n",
       "    </tr>\n",
       "    <tr>\n",
       "      <th>10</th>\n",
       "      <td>5.371</td>\n",
       "      <td>5.737916</td>\n",
       "      <td>-0.366916</td>\n",
       "    </tr>\n",
       "    <tr>\n",
       "      <th>11</th>\n",
       "      <td>5.459</td>\n",
       "      <td>5.532363</td>\n",
       "      <td>-0.073363</td>\n",
       "    </tr>\n",
       "    <tr>\n",
       "      <th>12</th>\n",
       "      <td>7.415</td>\n",
       "      <td>7.146009</td>\n",
       "      <td>0.268991</td>\n",
       "    </tr>\n",
       "    <tr>\n",
       "      <th>13</th>\n",
       "      <td>4.288</td>\n",
       "      <td>4.707732</td>\n",
       "      <td>-0.419732</td>\n",
       "    </tr>\n",
       "    <tr>\n",
       "      <th>14</th>\n",
       "      <td>5.967</td>\n",
       "      <td>5.809595</td>\n",
       "      <td>0.157405</td>\n",
       "    </tr>\n",
       "    <tr>\n",
       "      <th>15</th>\n",
       "      <td>6.086</td>\n",
       "      <td>6.058233</td>\n",
       "      <td>0.027767</td>\n",
       "    </tr>\n",
       "  </tbody>\n",
       "</table>\n",
       "</div>"
      ],
      "text/plain": [
       "    Actual  Predicted  Difference\n",
       "0    4.152   5.245918   -1.093918\n",
       "1    6.180   6.444679   -0.264679\n",
       "2    6.221   6.104226    0.116774\n",
       "3    5.155   4.635415    0.519585\n",
       "4    6.128   5.684517    0.443483\n",
       "5    5.485   5.195541    0.289459\n",
       "6    6.172   5.314956    0.857044\n",
       "7    6.234   5.553057    0.680943\n",
       "8    5.711   5.969392   -0.258392\n",
       "9    4.584   4.983956   -0.399956\n",
       "10   5.371   5.737916   -0.366916\n",
       "11   5.459   5.532363   -0.073363\n",
       "12   7.415   7.146009    0.268991\n",
       "13   4.288   4.707732   -0.419732\n",
       "14   5.967   5.809595    0.157405\n",
       "15   6.086   6.058233    0.027767"
      ]
     },
     "execution_count": 655,
     "metadata": {},
     "output_type": "execute_result"
    }
   ],
   "source": [
    "pred_y_df=pd.DataFrame({'Actual':y_test,'Predicted':y_pred,'Difference':y_test-y_pred})\n",
    "pred_y_df[0:20]                                   \n",
    "                                                   #실제 값과 예측값을 통한 가치 확인\n",
    "                                                   #차이 값 확인"
   ]
  },
  {
   "cell_type": "code",
   "execution_count": 12,
   "id": "5cd00949",
   "metadata": {},
   "outputs": [
    {
     "data": {
      "image/png": "[encoded data removed]",
      "text/plain": [
       "<Figure size 432x288 with 1 Axes>"
      ]
     },
     "metadata": {
      "needs_background": "light"
     },
     "output_type": "display_data"
    },
    {
     "name": "stdout",
     "output_type": "stream",
     "text": [
      "[[1.         0.80583432]\n",
      " [0.80583432 1.        ]]\n"
     ]
    },
    {
     "data": {
      "image/png": "[encoded data removed]",
      "text/plain": [
       "<Figure size 432x288 with 1 Axes>"
      ]
     },
     "metadata": {
      "needs_background": "light"
     },
     "output_type": "display_data"
    },
    {
     "name": "stdout",
     "output_type": "stream",
     "text": [
      "[[1.         0.75207123]\n",
      " [0.75207123 1.        ]]\n"
     ]
    },
    {
     "data": {
      "image/png": "[encoded data removed]",
      "text/plain": [
       "<Figure size 432x288 with 1 Axes>"
      ]
     },
     "metadata": {
      "needs_background": "light"
     },
     "output_type": "display_data"
    },
    {
     "name": "stdout",
     "output_type": "stream",
     "text": [
      "[[1.         0.51341001]\n",
      " [0.51341001 1.        ]]\n"
     ]
    },
    {
     "data": {
      "image/png": "[encoded data removed]",
      "text/plain": [
       "<Figure size 432x288 with 1 Axes>"
      ]
     },
     "metadata": {
      "needs_background": "light"
     },
     "output_type": "display_data"
    },
    {
     "name": "stdout",
     "output_type": "stream",
     "text": [
      "[[1.         0.72101815]\n",
      " [0.72101815 1.        ]]\n"
     ]
    },
    {
     "data": {
      "image/png": "[encoded data removed]",
      "text/plain": [
       "<Figure size 432x288 with 1 Axes>"
      ]
     },
     "metadata": {
      "needs_background": "light"
     },
     "output_type": "display_data"
    }
   ],
   "source": [
    "plt.scatter(df['HPI'],df['QLI'],alpha=0.5)\n",
    "plt.title('scatter plot')\n",
    "plt.xlabel('HPI')\n",
    "plt.ylabel('QLI')\n",
    "plt.show()\n",
    "a1= np.corrcoef(df.HPI,df.QLI)                     #매우 높은 양의 상관관계를 나타냄\n",
    "print(a1)\n",
    "\n",
    "\"\"\"\n",
    "같은 방식으로\n",
    "H0: 구매력 지수, 건강 관리 지수, 생활비지수 (PPI, HCI, CLI)에 따른 행복 지수의 차이가 없다.\n",
    "H1: 구매력 지수, 건강 관리 지수, 생활비지수 (PPI, HCI, CLI)에 따른 행복 지수의 차이가 있다.\n",
    "유의수준=0.05, P-value값 다 0.05보다 높게 측정됨, 즉 P>0.05이므로 귀무가설 채택\n",
    "\n",
    "결론:구매력 지수, 건강 관리 지수, 생활비지수에 따른 행복 지수의 차이가 있다는 근거가 충분하지 않다.  \n",
    "\"\"\"\n",
    "plt.scatter(df['HPI'],df['PPI'],alpha=0.5)\n",
    "plt.title('scatter plot')\n",
    "plt.xlabel('HPI')\n",
    "plt.ylabel('PPI')\n",
    "plt.show()\n",
    "a2= np.corrcoef(df.HPI,df.PPI)                     #높은 양의 상관관계를 나타냄\n",
    "\n",
    "print(a2)\n",
    "plt.scatter(df['HPI'],df['HCI'],alpha=0.5)\n",
    "plt.title('scatter plot')\n",
    "plt.xlabel('HPI')\n",
    "plt.ylabel('HCI')\n",
    "plt.show()\n",
    "a4= np.corrcoef(df.HPI,df.HCI)                    #보통인 양의 상관관계를 나타냄\n",
    "\n",
    "print(a4)\n",
    "plt.scatter(df['HPI'],df['CLI'],alpha=0.5)\n",
    "plt.title('scatter plot')\n",
    "plt.xlabel('HPI')\n",
    "plt.ylabel('CLI')\n",
    "plt.show()\n",
    "a5= np.corrcoef(df.HPI,df.CLI)                    #높은 양의 상관관계를 나타냄\n",
    "print(a5)\n",
    "plt.scatter(df['HPI'],df['SI'],alpha=0.5)\n",
    "plt.title('scatter plot')\n",
    "plt.xlabel('HPI')\n",
    "plt.ylabel('SI')\n",
    "plt.show()\n",
    "\n"
   ]
  },
  {
   "cell_type": "code",
   "execution_count": 13,
   "id": "36a16c2c",
   "metadata": {},
   "outputs": [
    {
     "name": "stdout",
     "output_type": "stream",
     "text": [
      "[[1.         0.37079122]\n",
      " [0.37079122 1.        ]]\n"
     ]
    },
    {
     "data": {
      "image/png": "[encoded data removed]",
      "text/plain": [
       "<Figure size 432x288 with 1 Axes>"
      ]
     },
     "metadata": {
      "needs_background": "light"
     },
     "output_type": "display_data"
    },
    {
     "name": "stdout",
     "output_type": "stream",
     "text": [
      "[[ 1.         -0.40396876]\n",
      " [-0.40396876  1.        ]]\n"
     ]
    },
    {
     "data": {
      "image/png": "[encoded data removed]",
      "text/plain": [
       "<Figure size 432x288 with 1 Axes>"
      ]
     },
     "metadata": {
      "needs_background": "light"
     },
     "output_type": "display_data"
    },
    {
     "name": "stdout",
     "output_type": "stream",
     "text": [
      "[[ 1.         -0.59436605]\n",
      " [-0.59436605  1.        ]]\n"
     ]
    },
    {
     "data": {
      "image/png": "[encoded data removed]",
      "text/plain": [
       "<Figure size 432x288 with 1 Axes>"
      ]
     },
     "metadata": {
      "needs_background": "light"
     },
     "output_type": "display_data"
    },
    {
     "name": "stdout",
     "output_type": "stream",
     "text": [
      "[[ 1.         -0.80213733]\n",
      " [-0.80213733  1.        ]]\n"
     ]
    },
    {
     "data": {
      "image/png": "[encoded data removed]",
      "text/plain": [
       "<Figure size 432x288 with 1 Axes>"
      ]
     },
     "metadata": {
      "needs_background": "light"
     },
     "output_type": "display_data"
    },
    {
     "name": "stdout",
     "output_type": "stream",
     "text": [
      "[[ 1.         -0.02901094]\n",
      " [-0.02901094  1.        ]]\n"
     ]
    }
   ],
   "source": [
    "a3= np.corrcoef(df.HPI,df.SI)                   #낮은 양의 상관관계를 나타냄\n",
    "print(a3)\n",
    "plt.scatter(df['HPI'],df['PPIR'],alpha=0.5)\n",
    "plt.title('scatter plot')\n",
    "plt.xlabel('HPI')\n",
    "plt.ylabel('PPIR')\n",
    "plt.show()\n",
    "a6= np.corrcoef(df.HPI,df.PPIR)                   #보통인 양의 상관관계를 나타냄\n",
    "print(a6)\n",
    "plt.scatter(df['HPI'],df['TCTI'],alpha=0.5)\n",
    "plt.title('scatter plot')\n",
    "plt.xlabel('HPI')\n",
    "plt.ylabel('TCTI')\n",
    "plt.show()\n",
    "a7= np.corrcoef(df.HPI,df.TCTI)                   #보통인 양의 상관관계를 나타냄\n",
    "print(a7)\n",
    "plt.scatter(df['HPI'],df['PI'],alpha=0.5)\n",
    "plt.title('scatter plot')\n",
    "plt.xlabel('HPI')\n",
    "plt.ylabel('PI')\n",
    "plt.show()\n",
    "a8= np.corrcoef(df.HPI,df.PI)                  #매우 높은 음의 상관관계를 나타냄\n",
    "print(a8)\n",
    "plt.scatter(df['HPI'],df['CI'],alpha=0.5)\n",
    "plt.title('scatter plot')\n",
    "plt.xlabel('HPI')\n",
    "plt.ylabel('CI')\n",
    "plt.show()\n",
    "a9= np.corrcoef(df.HPI,df.CI)                          #상관관계가 없다\n",
    "print(a9)"
   ]
  },
  {
   "cell_type": "code",
   "execution_count": null,
   "id": "f54ee561",
   "metadata": {},
   "outputs": [],
   "source": []
  }
 ],
 "metadata": {
  "kernelspec": {
   "display_name": "Python 3 (ipykernel)",
   "language": "python",
   "name": "python3"
  },
  "language_info": {
   "codemirror_mode": {
    "name": "ipython",
    "version": 3
   },
   "file_extension": ".py",
   "mimetype": "text/x-python",
   "name": "python",
   "nbconvert_exporter": "python",
   "pygments_lexer": "ipython3",
   "version": "3.9.7"
  }
 },
 "nbformat": 4,
 "nbformat_minor": 5
}
